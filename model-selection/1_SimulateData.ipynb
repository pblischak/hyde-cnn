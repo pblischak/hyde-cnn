{
 "cells": [
  {
   "cell_type": "markdown",
   "metadata": {},
   "source": [
    "# 1. Simulating Data For CNN Training\n",
    "\n"
   ]
  },
  {
   "cell_type": "markdown",
   "metadata": {},
   "source": [
    "### No Hybridization (`no_hyb`)\n",
    "\n"
   ]
  },
  {
   "cell_type": "code",
   "execution_count": 1,
   "metadata": {},
   "outputs": [],
   "source": [
    "%%bash\n",
    "\n",
    "mkdir -p no_hyb\n",
    "\n",
    "for i in {1..50000}\n",
    "do\n",
    "    ms 6 1 -T -I 6 1 1 1 1 1 1 -r 20 50000000 -ej 0.5 1 2 -ej 0.5 3 4 -ej 1.0 2 4 \\\n",
    "        -ej 2.0 4 5 -ej 4.0 5 6 | grep '^\\[' > no_hyb/no_hyb_recomb${i}.tre\n",
    "done"
   ]
  },
  {
   "cell_type": "markdown",
   "metadata": {},
   "source": [
    "### One Hybridization Event (`one_hyb`)"
   ]
  },
  {
   "cell_type": "code",
   "execution_count": 2,
   "metadata": {},
   "outputs": [],
   "source": [
    "%%bash\n",
    "\n",
    "mkdir -p one_hyb\n",
    "\n",
    "for i in {1..50000}\n",
    "do\n",
    "    ms 6 1 -T -I 6 1 1 1 1 1 1 -r 20 50000000 -ej 0.5 1 2 -ej 0.5 3 4 -es 1.0 4 0.6 -ej 1.0 4 5 -ej 1.0 7 2 \\\n",
    "        -ej 2.0 2 5 -ej 4.0 5 6 | grep '^\\[' > one_hyb/one_hyb_recomb${i}.tre\n",
    "done"
   ]
  },
  {
   "cell_type": "markdown",
   "metadata": {},
   "source": [
    "### One Hybridization Event With Additional Migration (`hyb_mig`)"
   ]
  },
  {
   "cell_type": "code",
   "execution_count": 1,
   "metadata": {},
   "outputs": [],
   "source": [
    "%%bash\n",
    "\n",
    "mkdir -p hyb_mig\n",
    "\n",
    "for i in {1..50000}\n",
    "do\n",
    "    ms 6 1 -T -I 6 1 1 1 1 1 1 -r 20 50000000 -m 5 4 5.0 -ej 0.5 1 2 -ej 0.5 3 4 -es 1.0 4 0.6 -ej 1.0 4 5 \\\n",
    "        -ej 1.0 7 2 -ej 2.0 2 5 -ej 4.0 5 6 | grep '^\\[' > hyb_mig/hyb_mig_recomb${i}.tre\n",
    "done"
   ]
  },
  {
   "cell_type": "markdown",
   "metadata": {},
   "source": [
    "### Two Hybridization Events (`two_hyb`)"
   ]
  },
  {
   "cell_type": "code",
   "execution_count": 2,
   "metadata": {},
   "outputs": [],
   "source": [
    "%%bash\n",
    "\n",
    "#mkdir -p two_hyb\n",
    "\n",
    "for i in {1..50000}\n",
    "do\n",
    "    ms 6 1 -T -I 6 1 1 1 1 1 1 -r 20 50000000 -es 0.25 3 0.3 -ej 0.25 7 2 -ej 0.25 3 4 -ej 0.5 1 2 -es 1.0 4 0.6 -ej 1.0 4 5 -ej 1.0 8 2 \\\n",
    "        -ej 2.0 2 5 -ej 4.0 5 6 | grep '^\\[' > two_hyb/two_hyb_recomb${i}.tre\n",
    "done"
   ]
  },
  {
   "cell_type": "code",
   "execution_count": null,
   "metadata": {},
   "outputs": [],
   "source": []
  }
 ],
 "metadata": {
  "kernelspec": {
   "display_name": "Python 3",
   "language": "python",
   "name": "python3"
  },
  "language_info": {
   "codemirror_mode": {
    "name": "ipython",
    "version": 3
   },
   "file_extension": ".py",
   "mimetype": "text/x-python",
   "name": "python",
   "nbconvert_exporter": "python",
   "pygments_lexer": "ipython3",
   "version": "3.7.3"
  }
 },
 "nbformat": 4,
 "nbformat_minor": 2
}
