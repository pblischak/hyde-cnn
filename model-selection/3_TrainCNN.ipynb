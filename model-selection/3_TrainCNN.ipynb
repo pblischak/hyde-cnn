{
 "cells": [
  {
   "cell_type": "markdown",
   "metadata": {},
   "source": [
    "# 3. Training the CNN"
   ]
  },
  {
   "cell_type": "code",
   "execution_count": 1,
   "metadata": {},
   "outputs": [
    {
     "name": "stderr",
     "output_type": "stream",
     "text": [
      "Using TensorFlow backend.\n"
     ]
    }
   ],
   "source": [
    "import numpy as np\n",
    "import keras\n",
    "from keras.models import Sequential\n",
    "from keras.layers import Dense, Dropout, Flatten\n",
    "from keras.layers import Conv1D, MaxPooling1D, AveragePooling1D\n",
    "from keras import backend as K"
   ]
  },
  {
   "cell_type": "code",
   "execution_count": 2,
   "metadata": {},
   "outputs": [],
   "source": [
    "sims = np.load('all_sims_recomb.npz')\n",
    "xtrain, xval, ytrain, yval = sims['xtrain'], sims['xval'], sims['ytrain'], sims['yval']"
   ]
  },
  {
   "cell_type": "code",
   "execution_count": 3,
   "metadata": {},
   "outputs": [],
   "source": [
    "del sims"
   ]
  },
  {
   "cell_type": "code",
   "execution_count": 3,
   "metadata": {},
   "outputs": [
    {
     "name": "stderr",
     "output_type": "stream",
     "text": [
      "WARNING: Logging before flag parsing goes to stderr.\n",
      "W0719 08:52:35.621867 139740462630720 deprecation_wrapper.py:119] From /home/paulblischak/miniconda3/envs/cnn/lib/python3.7/site-packages/keras/backend/tensorflow_backend.py:74: The name tf.get_default_graph is deprecated. Please use tf.compat.v1.get_default_graph instead.\n",
      "\n",
      "W0719 08:52:35.764388 139740462630720 deprecation_wrapper.py:119] From /home/paulblischak/miniconda3/envs/cnn/lib/python3.7/site-packages/keras/backend/tensorflow_backend.py:517: The name tf.placeholder is deprecated. Please use tf.compat.v1.placeholder instead.\n",
      "\n",
      "W0719 08:52:35.818226 139740462630720 deprecation_wrapper.py:119] From /home/paulblischak/miniconda3/envs/cnn/lib/python3.7/site-packages/keras/backend/tensorflow_backend.py:4138: The name tf.random_uniform is deprecated. Please use tf.random.uniform instead.\n",
      "\n",
      "W0719 08:52:35.909189 139740462630720 deprecation_wrapper.py:119] From /home/paulblischak/miniconda3/envs/cnn/lib/python3.7/site-packages/keras/backend/tensorflow_backend.py:3976: The name tf.nn.max_pool is deprecated. Please use tf.nn.max_pool2d instead.\n",
      "\n",
      "W0719 08:52:35.912215 139740462630720 deprecation_wrapper.py:119] From /home/paulblischak/miniconda3/envs/cnn/lib/python3.7/site-packages/keras/backend/tensorflow_backend.py:133: The name tf.placeholder_with_default is deprecated. Please use tf.compat.v1.placeholder_with_default instead.\n",
      "\n",
      "W0719 08:52:35.919037 139740462630720 deprecation.py:506] From /home/paulblischak/miniconda3/envs/cnn/lib/python3.7/site-packages/keras/backend/tensorflow_backend.py:3445: calling dropout (from tensorflow.python.ops.nn_ops) with keep_prob is deprecated and will be removed in a future version.\n",
      "Instructions for updating:\n",
      "Please use `rate` instead of `keep_prob`. Rate should be set to `rate = 1 - keep_prob`.\n",
      "W0719 08:52:36.048911 139740462630720 deprecation_wrapper.py:119] From /home/paulblischak/miniconda3/envs/cnn/lib/python3.7/site-packages/keras/optimizers.py:790: The name tf.train.Optimizer is deprecated. Please use tf.compat.v1.train.Optimizer instead.\n",
      "\n",
      "W0719 08:52:36.054815 139740462630720 deprecation_wrapper.py:119] From /home/paulblischak/miniconda3/envs/cnn/lib/python3.7/site-packages/keras/backend/tensorflow_backend.py:3295: The name tf.log is deprecated. Please use tf.math.log instead.\n",
      "\n"
     ]
    },
    {
     "name": "stdout",
     "output_type": "stream",
     "text": [
      "_________________________________________________________________\n",
      "Layer (type)                 Output Shape              Param #   \n",
      "=================================================================\n",
      "conv1d_1 (Conv1D)            (None, 393, 16)           336       \n",
      "_________________________________________________________________\n",
      "conv1d_2 (Conv1D)            (None, 392, 32)           1056      \n",
      "_________________________________________________________________\n",
      "max_pooling1d_1 (MaxPooling1 (None, 196, 32)           0         \n",
      "_________________________________________________________________\n",
      "dropout_1 (Dropout)          (None, 196, 32)           0         \n",
      "_________________________________________________________________\n",
      "conv1d_3 (Conv1D)            (None, 195, 32)           2080      \n",
      "_________________________________________________________________\n",
      "max_pooling1d_2 (MaxPooling1 (None, 97, 32)            0         \n",
      "_________________________________________________________________\n",
      "dropout_2 (Dropout)          (None, 97, 32)            0         \n",
      "_________________________________________________________________\n",
      "conv1d_4 (Conv1D)            (None, 96, 64)            4160      \n",
      "_________________________________________________________________\n",
      "max_pooling1d_3 (MaxPooling1 (None, 48, 64)            0         \n",
      "_________________________________________________________________\n",
      "dropout_3 (Dropout)          (None, 48, 64)            0         \n",
      "_________________________________________________________________\n",
      "flatten_1 (Flatten)          (None, 3072)              0         \n",
      "_________________________________________________________________\n",
      "dense_1 (Dense)              (None, 64)                196672    \n",
      "_________________________________________________________________\n",
      "dropout_4 (Dropout)          (None, 64)                0         \n",
      "_________________________________________________________________\n",
      "dense_2 (Dense)              (None, 64)                4160      \n",
      "_________________________________________________________________\n",
      "dropout_5 (Dropout)          (None, 64)                0         \n",
      "_________________________________________________________________\n",
      "dense_3 (Dense)              (None, 4)                 260       \n",
      "=================================================================\n",
      "Total params: 208,724\n",
      "Trainable params: 208,724\n",
      "Non-trainable params: 0\n",
      "_________________________________________________________________\n",
      "None\n"
     ]
    }
   ],
   "source": [
    "model = Sequential()\n",
    "model.add(Conv1D(16, kernel_size=2,\n",
    "                 activation='relu',\n",
    "                 input_shape=(xtrain.shape[1],xtrain.shape[2])))\n",
    "model.add(Conv1D(32, kernel_size=2, activation='relu'))\n",
    "model.add(MaxPooling1D(pool_size=2))\n",
    "model.add(Dropout(0.25))\n",
    "model.add(Conv1D(32, kernel_size=2, activation='relu'))\n",
    "model.add(MaxPooling1D(pool_size=2))\n",
    "model.add(Dropout(0.25))\n",
    "model.add(Conv1D(64, kernel_size=2, activation='relu'))\n",
    "model.add(MaxPooling1D(pool_size=2))\n",
    "model.add(Dropout(0.25))\n",
    "model.add(Flatten())\n",
    "model.add(Dense(64, activation='relu'))\n",
    "model.add(Dropout(0.5))\n",
    "model.add(Dense(64, activation='relu'))\n",
    "model.add(Dropout(0.5))\n",
    "model.add(Dense(4, activation='softmax'))\n",
    "model.compile(loss=keras.losses.categorical_crossentropy,\n",
    "              optimizer=keras.optimizers.Adam(lr=0.0001),\n",
    "              metrics=['accuracy'])\n",
    "print(model.summary())"
   ]
  },
  {
   "cell_type": "code",
   "execution_count": 4,
   "metadata": {},
   "outputs": [
    {
     "name": "stderr",
     "output_type": "stream",
     "text": [
      "W0719 08:52:50.704768 139740462630720 deprecation.py:323] From /home/paulblischak/miniconda3/envs/cnn/lib/python3.7/site-packages/tensorflow/python/ops/math_grad.py:1250: add_dispatch_support.<locals>.wrapper (from tensorflow.python.ops.array_ops) is deprecated and will be removed in a future version.\n",
      "Instructions for updating:\n",
      "Use tf.where in 2.0, which has the same broadcast rule as np.where\n"
     ]
    },
    {
     "name": "stdout",
     "output_type": "stream",
     "text": [
      "Train on 140000 samples, validate on 30000 samples\n",
      "Epoch 1/10\n",
      "140000/140000 [==============================] - 70s 500us/step - loss: 0.4066 - acc: 0.8510 - val_loss: 0.1284 - val_acc: 0.9610\n",
      "Epoch 2/10\n",
      "140000/140000 [==============================] - 69s 490us/step - loss: 0.1536 - acc: 0.9577 - val_loss: 0.0946 - val_acc: 0.9721\n",
      "Epoch 3/10\n",
      "140000/140000 [==============================] - 82s 583us/step - loss: 0.1194 - acc: 0.9687 - val_loss: 0.0871 - val_acc: 0.9757\n",
      "Epoch 4/10\n",
      "140000/140000 [==============================] - 69s 495us/step - loss: 0.1047 - acc: 0.9732 - val_loss: 0.0825 - val_acc: 0.9799\n",
      "Epoch 5/10\n",
      "140000/140000 [==============================] - 67s 478us/step - loss: 0.0951 - acc: 0.9758 - val_loss: 0.0787 - val_acc: 0.9809\n",
      "Epoch 6/10\n",
      "140000/140000 [==============================] - 83s 592us/step - loss: 0.0891 - acc: 0.9773 - val_loss: 0.0774 - val_acc: 0.9802\n",
      "Epoch 7/10\n",
      "140000/140000 [==============================] - 84s 603us/step - loss: 0.0836 - acc: 0.9787 - val_loss: 0.0720 - val_acc: 0.9824\n",
      "Epoch 8/10\n",
      "140000/140000 [==============================] - 79s 563us/step - loss: 0.0790 - acc: 0.9797 - val_loss: 0.0723 - val_acc: 0.9822\n"
     ]
    },
    {
     "data": {
      "text/plain": [
       "<keras.callbacks.History at 0x7f1790b7cfd0>"
      ]
     },
     "execution_count": 4,
     "metadata": {},
     "output_type": "execute_result"
    }
   ],
   "source": [
    "callbacks = [keras.callbacks.EarlyStopping(monitor='val_loss'),\n",
    "             keras.callbacks.ModelCheckpoint(filepath='hyde_cnn_all-sims.mdl', monitor='val_loss', save_best_only=True)]\n",
    "model.fit(xtrain, ytrain, batch_size=32,\n",
    "          epochs=10,\n",
    "          verbose=1,\n",
    "          callbacks=callbacks,\n",
    "          validation_data=(xval,yval))"
   ]
  },
  {
   "cell_type": "code",
   "execution_count": 5,
   "metadata": {},
   "outputs": [],
   "source": []
  },
  {
   "cell_type": "markdown",
   "metadata": {},
   "source": []
  }
 ],
 "metadata": {
  "kernelspec": {
   "display_name": "Python 3",
   "language": "python",
   "name": "python3"
  },
  "language_info": {
   "codemirror_mode": {
    "name": "ipython",
    "version": 3
   },
   "file_extension": ".py",
   "mimetype": "text/x-python",
   "name": "python",
   "nbconvert_exporter": "python",
   "pygments_lexer": "ipython3",
   "version": "3.7.3"
  }
 },
 "nbformat": 4,
 "nbformat_minor": 2
}
